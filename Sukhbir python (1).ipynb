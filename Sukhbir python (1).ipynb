{
 "cells": [
  {
   "cell_type": "code",
   "execution_count": null,
   "id": "ebf062c5-6a45-40a5-85c8-09d92ff2638c",
   "metadata": {},
   "outputs": [
    {
     "name": "stdout",
     "output_type": "stream",
     "text": [
      "\n",
      "Hotel Management System\n",
      "1. Add Room\n",
      "2. Delete Room\n",
      "3. Display Rooms Details\n",
      "4. Allocate Room\n",
      "5. Display Room Allocation Details\n",
      "6. Billing & De-Allocation\n",
      "7. Save Room Allocation to File\n",
      "8. Show Room Allocation from File\n",
      "9. Backup Room Allocation Data\n",
      "0. Exit Application\n"
     ]
    },
    {
     "name": "stdin",
     "output_type": "stream",
     "text": [
      "Enter your choice:  1\n",
      "Enter room number:  10\n",
      "Enter room features:  Ac ps5\n"
     ]
    },
    {
     "name": "stdout",
     "output_type": "stream",
     "text": [
      "Room 10 added successfully.\n",
      "\n",
      "Hotel Management System\n",
      "1. Add Room\n",
      "2. Delete Room\n",
      "3. Display Rooms Details\n",
      "4. Allocate Room\n",
      "5. Display Room Allocation Details\n",
      "6. Billing & De-Allocation\n",
      "7. Save Room Allocation to File\n",
      "8. Show Room Allocation from File\n",
      "9. Backup Room Allocation Data\n",
      "0. Exit Application\n"
     ]
    },
    {
     "name": "stdin",
     "output_type": "stream",
     "text": [
      "Enter your choice:  1\n",
      "Enter room number:  11\n",
      "Enter room features:  Cooler ps5\n"
     ]
    },
    {
     "name": "stdout",
     "output_type": "stream",
     "text": [
      "Room 11 added successfully.\n",
      "\n",
      "Hotel Management System\n",
      "1. Add Room\n",
      "2. Delete Room\n",
      "3. Display Rooms Details\n",
      "4. Allocate Room\n",
      "5. Display Room Allocation Details\n",
      "6. Billing & De-Allocation\n",
      "7. Save Room Allocation to File\n",
      "8. Show Room Allocation from File\n",
      "9. Backup Room Allocation Data\n",
      "0. Exit Application\n"
     ]
    },
    {
     "name": "stdin",
     "output_type": "stream",
     "text": [
      "Enter your choice:  1\n",
      "Enter room number:  1\n",
      "Enter room features:  Cooler\n"
     ]
    },
    {
     "name": "stdout",
     "output_type": "stream",
     "text": [
      "Room 1 added successfully.\n",
      "\n",
      "Hotel Management System\n",
      "1. Add Room\n",
      "2. Delete Room\n",
      "3. Display Rooms Details\n",
      "4. Allocate Room\n",
      "5. Display Room Allocation Details\n",
      "6. Billing & De-Allocation\n",
      "7. Save Room Allocation to File\n",
      "8. Show Room Allocation from File\n",
      "9. Backup Room Allocation Data\n",
      "0. Exit Application\n"
     ]
    },
    {
     "name": "stdin",
     "output_type": "stream",
     "text": [
      "Enter your choice:  2\n",
      "Enter room number to delete:  12\n"
     ]
    },
    {
     "name": "stdout",
     "output_type": "stream",
     "text": [
      "Room 12 not found.\n",
      "\n",
      "Hotel Management System\n",
      "1. Add Room\n",
      "2. Delete Room\n",
      "3. Display Rooms Details\n",
      "4. Allocate Room\n",
      "5. Display Room Allocation Details\n",
      "6. Billing & De-Allocation\n",
      "7. Save Room Allocation to File\n",
      "8. Show Room Allocation from File\n",
      "9. Backup Room Allocation Data\n",
      "0. Exit Application\n"
     ]
    },
    {
     "name": "stdin",
     "output_type": "stream",
     "text": [
      "Enter your choice:  1\n",
      "Enter room number:  12\n",
      "Enter room features:  Cooler ac\n"
     ]
    },
    {
     "name": "stdout",
     "output_type": "stream",
     "text": [
      "Room 12 added successfully.\n",
      "\n",
      "Hotel Management System\n",
      "1. Add Room\n",
      "2. Delete Room\n",
      "3. Display Rooms Details\n",
      "4. Allocate Room\n",
      "5. Display Room Allocation Details\n",
      "6. Billing & De-Allocation\n",
      "7. Save Room Allocation to File\n",
      "8. Show Room Allocation from File\n",
      "9. Backup Room Allocation Data\n",
      "0. Exit Application\n"
     ]
    },
    {
     "name": "stdin",
     "output_type": "stream",
     "text": [
      "Enter your choice:  2\n",
      "Enter room number to delete:  12\n"
     ]
    },
    {
     "name": "stdout",
     "output_type": "stream",
     "text": [
      "Room 12 deleted successfully.\n",
      "\n",
      "Hotel Management System\n",
      "1. Add Room\n",
      "2. Delete Room\n",
      "3. Display Rooms Details\n",
      "4. Allocate Room\n",
      "5. Display Room Allocation Details\n",
      "6. Billing & De-Allocation\n",
      "7. Save Room Allocation to File\n",
      "8. Show Room Allocation from File\n",
      "9. Backup Room Allocation Data\n",
      "0. Exit Application\n"
     ]
    },
    {
     "name": "stdin",
     "output_type": "stream",
     "text": [
      "Enter your choice:  3\n"
     ]
    },
    {
     "name": "stdout",
     "output_type": "stream",
     "text": [
      "Room 10: Features: Ac ps5, Allocated: False\n",
      "Room 11: Features: Cooler ps5, Allocated: False\n",
      "Room 1: Features: Cooler, Allocated: False\n",
      "\n",
      "Hotel Management System\n",
      "1. Add Room\n",
      "2. Delete Room\n",
      "3. Display Rooms Details\n",
      "4. Allocate Room\n",
      "5. Display Room Allocation Details\n",
      "6. Billing & De-Allocation\n",
      "7. Save Room Allocation to File\n",
      "8. Show Room Allocation from File\n",
      "9. Backup Room Allocation Data\n",
      "0. Exit Application\n"
     ]
    },
    {
     "name": "stdin",
     "output_type": "stream",
     "text": [
      "Enter your choice:  4\n",
      "Enter room number to allocate:  11\n",
      "Enter customer name:  Sukhbir\n"
     ]
    },
    {
     "name": "stdout",
     "output_type": "stream",
     "text": [
      "Room 11 allocated to Sukhbir.\n",
      "\n",
      "Hotel Management System\n",
      "1. Add Room\n",
      "2. Delete Room\n",
      "3. Display Rooms Details\n",
      "4. Allocate Room\n",
      "5. Display Room Allocation Details\n",
      "6. Billing & De-Allocation\n",
      "7. Save Room Allocation to File\n",
      "8. Show Room Allocation from File\n",
      "9. Backup Room Allocation Data\n",
      "0. Exit Application\n"
     ]
    },
    {
     "name": "stdin",
     "output_type": "stream",
     "text": [
      "Enter your choice:  5\n"
     ]
    },
    {
     "name": "stdout",
     "output_type": "stream",
     "text": [
      "Room 11 is allocated to Sukhbir.\n",
      "\n",
      "Hotel Management System\n",
      "1. Add Room\n",
      "2. Delete Room\n",
      "3. Display Rooms Details\n",
      "4. Allocate Room\n",
      "5. Display Room Allocation Details\n",
      "6. Billing & De-Allocation\n",
      "7. Save Room Allocation to File\n",
      "8. Show Room Allocation from File\n",
      "9. Backup Room Allocation Data\n",
      "0. Exit Application\n"
     ]
    },
    {
     "name": "stdin",
     "output_type": "stream",
     "text": [
      "Enter your choice:  6\n",
      "Enter room number for billing and deallocation:  11\n"
     ]
    },
    {
     "name": "stdout",
     "output_type": "stream",
     "text": [
      "Billing Sukhbir for Room 11.\n",
      "Room 11 has been deallocated.\n",
      "\n",
      "Hotel Management System\n",
      "1. Add Room\n",
      "2. Delete Room\n",
      "3. Display Rooms Details\n",
      "4. Allocate Room\n",
      "5. Display Room Allocation Details\n",
      "6. Billing & De-Allocation\n",
      "7. Save Room Allocation to File\n",
      "8. Show Room Allocation from File\n",
      "9. Backup Room Allocation Data\n",
      "0. Exit Application\n"
     ]
    },
    {
     "name": "stdin",
     "output_type": "stream",
     "text": [
      "Enter your choice:  6\n",
      "Enter room number for billing and deallocation:  10\n"
     ]
    },
    {
     "name": "stdout",
     "output_type": "stream",
     "text": [
      "Room 10 is not currently allocated.\n",
      "\n",
      "Hotel Management System\n",
      "1. Add Room\n",
      "2. Delete Room\n",
      "3. Display Rooms Details\n",
      "4. Allocate Room\n",
      "5. Display Room Allocation Details\n",
      "6. Billing & De-Allocation\n",
      "7. Save Room Allocation to File\n",
      "8. Show Room Allocation from File\n",
      "9. Backup Room Allocation Data\n",
      "0. Exit Application\n"
     ]
    },
    {
     "name": "stdin",
     "output_type": "stream",
     "text": [
      "Enter your choice:  7\n"
     ]
    },
    {
     "name": "stdout",
     "output_type": "stream",
     "text": [
      "Room allocation saved to LHMS_764707577.txt\n",
      "\n",
      "Hotel Management System\n",
      "1. Add Room\n",
      "2. Delete Room\n",
      "3. Display Rooms Details\n",
      "4. Allocate Room\n",
      "5. Display Room Allocation Details\n",
      "6. Billing & De-Allocation\n",
      "7. Save Room Allocation to File\n",
      "8. Show Room Allocation from File\n",
      "9. Backup Room Allocation Data\n",
      "0. Exit Application\n"
     ]
    },
    {
     "name": "stdin",
     "output_type": "stream",
     "text": [
      "Enter your choice:  8\n"
     ]
    },
    {
     "name": "stdout",
     "output_type": "stream",
     "text": [
      "The file is empty.\n",
      "\n",
      "Hotel Management System\n",
      "1. Add Room\n",
      "2. Delete Room\n",
      "3. Display Rooms Details\n",
      "4. Allocate Room\n",
      "5. Display Room Allocation Details\n",
      "6. Billing & De-Allocation\n",
      "7. Save Room Allocation to File\n",
      "8. Show Room Allocation from File\n",
      "9. Backup Room Allocation Data\n",
      "0. Exit Application\n"
     ]
    },
    {
     "name": "stdin",
     "output_type": "stream",
     "text": [
      "Enter your choice:  9\n"
     ]
    },
    {
     "name": "stdout",
     "output_type": "stream",
     "text": [
      "Backup created: LHMS_764707577_Backup_20240714_233310.txt\n",
      "Original file cleared.\n",
      "\n",
      "Hotel Management System\n",
      "1. Add Room\n",
      "2. Delete Room\n",
      "3. Display Rooms Details\n",
      "4. Allocate Room\n",
      "5. Display Room Allocation Details\n",
      "6. Billing & De-Allocation\n",
      "7. Save Room Allocation to File\n",
      "8. Show Room Allocation from File\n",
      "9. Backup Room Allocation Data\n",
      "0. Exit Application\n"
     ]
    }
   ],
   "source": [
    "self.rooms = []\n",
    "\n",
    "    def add_room(self, room_number, features):\n",
    "        new_room = Room(room_number, features)\n",
    "        self.rooms.append(new_room)\n",
    "        print(f\"Room {room_number} added successfully.\")\n",
    "\n",
    "    def delete_room(self, room_number):\n",
    "        for room in self.rooms:\n",
    "            if room.room_number == room_number:\n",
    "                self.rooms.remove(room)\n",
    "                print(f\"Room {room_number} deleted successfully.\")\n",
    "                return\n",
    "        print(f\"Room {room_number} not found.\")\n",
    "\n",
    "    def display_rooms(self):\n",
    "        if not self.rooms:\n",
    "            print(\"No rooms available.\")\n",
    "        else:\n",
    "            for room in self.rooms:\n",
    "                print(f\"Room {room.room_number}: Features: {room.features}, Allocated: {room.allocated}\")\n",
    "\n",
    "    def allocate_room(self, room_number, customer_name):\n",
    "        for room in self.rooms:\n",
    "            if room.room_number == room_number:\n",
    "                if not room.allocated:\n",
    "                    room.allocated = True\n",
    "                    room.customer = customer_name\n",
    "                    print(f\"Room {room_number} allocated to {customer_name}.\")\n",
    "                else:\n",
    "                    print(f\"Room {room_number} is already allocated.\")\n",
    "                return\n",
    "        print(f\"Room {room_number} not found.\")\n",
    "\n",
    "    def display_allocation(self):\n",
    "        allocated_rooms = [room for room in self.rooms if room.allocated]\n",
    "        if not allocated_rooms:\n",
    "            print(\"No rooms are currently allocated.\")\n",
    "        else:\n",
    "            for room in allocated_rooms:\n",
    "                print(f\"Room {room.room_number} is allocated to {room.customer}.\")\n",
    "\n",
    "    def billing_and_deallocation(self, room_number):\n",
    "        for room in self.rooms:\n",
    "            if room.room_number == room_number:\n",
    "                if room.allocated:\n",
    "                    print(f\"Billing {room.customer} for Room {room_number}.\")\n",
    "                    room.allocated = False\n",
    "                    room.customer = None\n",
    "                    print(f\"Room {room_number} has been deallocated.\")\n",
    "                else:\n",
    "                    print(f\"Room {room_number} is not currently allocated.\")\n",
    "                return\n",
    "        print(f\"Room {room_number} not found.\")\n",
    "\n",
    "    def save_allocation(self):\n",
    "        with open(\"LHMS_764707577.txt\", \"w\") as file:\n",
    "            for room in self.rooms:\n",
    "                if room.allocated:\n",
    "                    file.write(f\"Room {room.room_number} is allocated to {room.customer}.\\n\")\n",
    "        print(\"Room allocation saved to LHMS_764707577.txt\")\n",
    "\n",
    "    def show_allocation(self):\n",
    "        if os.path.exists(\"LHMS_764707577.txt\"):\n",
    "            with open(\"LHMS_764707577.txt\", \"r\") as file:\n",
    "                content = file.read()\n",
    "                if content:\n",
    "                    print(\"Room Allocation from file:\")\n",
    "                    print(content)\n",
    "                else:\n",
    "                    print(\"The file is empty.\")\n",
    "        else:\n",
    "            print(\"No allocation file found.\")\n",
    "\n",
    "    def backup_allocation(self):\n",
    "        if os.path.exists(\"LHMS_764707577.txt\"):\n",
    "            timestamp = datetime.datetime.now().strftime(\"%Y%m%d_%H%M%S\")\n",
    "            backup_filename = f\"LHMS_764707577_Backup_{timestamp}.txt\"\n",
    "            with open(\"LHMS_764707577.txt\", \"r\") as source_file:\n",
    "                content = source_file.read()\n",
    "            with open(backup_filename, \"w\") as backup_file:\n",
    "                backup_file.write(content)\n",
    "            with open(\"LHMS_764707577.txt\", \"w\") as source_file:\n",
    "                source_file.write(\"\")  # Clear the original file\n",
    "            print(f\"Backup created: {backup_filename}\")\n",
    "            print(\"Original file cleared.\")\n",
    "        else:\n",
    "            print(\"No allocation file found to backup.\")\n",
    "\n",
    "def main():\n",
    "    hotel = Hotel()\n",
    "\n",
    "    while True:\n",
    "        print(\"\\nHotel Management System\")\n",
    "        print(\"1. Add Room\")\n",
    "        print(\"2. Delete Room\")\n",
    "        print(\"3. Display Rooms Details\")\n",
    "        print(\"4. Allocate Room\")\n",
    "        print(\"5. Display Room Allocation Details\")\n",
    "        print(\"6. Billing & De-Allocation\")\n",
    "        print(\"7. Save Room Allocation to File\")\n",
    "        print(\"8. Show Room Allocation from File\")\n",
    "        print(\"9. Backup Room Allocation Data\")\n",
    "        print(\"0. Exit Application\")\n",
    "\n",
    "        choice = input(\"Enter your choice: \")\n",
    "\n",
    "        if choice == '1':\n",
    "            room_number = input(\"Enter room number: \")\n",
    "            features = input(\"Enter room features: \")\n",
    "            hotel.add_room(room_number, features)\n",
    "        elif choice == '2':\n",
    "            room_number = input(\"Enter room number to delete: \")\n",
    "            hotel.delete_room(room_number)\n",
    "        elif choice == '3':\n",
    "            hotel.display_rooms()\n",
    "        elif choice == '4':\n",
    "            room_number = input(\"Enter room number to allocate: \")\n",
    "            customer_name = input(\"Enter customer name: \")\n",
    "            hotel.allocate_room(room_number, customer_name)\n",
    "        elif choice == '5':\n",
    "            hotel.display_allocation()\n",
    "        elif choice == '6':\n",
    "            room_number = input(\"Enter room number for billing and deallocation: \")\n",
    "            hotel.billing_and_deallocation(room_number)\n",
    "        elif choice == '7':\n",
    "            hotel.save_allocation()\n",
    "        elif choice == '8':\n",
    "            hotel.show_allocation()\n",
    "        elif choice == '9':\n",
    "            hotel.backup_allocation()\n",
    "        elif choice == '0':\n",
    "            print(\"Exiting the application. Goodbye!\")\n",
    "            break\n",
    "        else:\n",
    "            print(\"Invalid choice. Please try again.\")\n",
    "\n",
    "if __name__ == \"__main__\":\n",
    "    main()"
   ]
  },
  {
   "cell_type": "code",
   "execution_count": null,
   "id": "5438fc69-579b-4e10-9975-acbc81ffc19a",
   "metadata": {},
   "outputs": [],
   "source": []
  }
 ],
 "metadata": {
  "kernelspec": {
   "display_name": "Python 3 (ipykernel)",
   "language": "python",
   "name": "python3"
  },
  "language_info": {
   "codemirror_mode": {
    "name": "ipython",
    "version": 3
   },
   "file_extension": ".py",
   "mimetype": "text/x-python",
   "name": "python",
   "nbconvert_exporter": "python",
   "pygments_lexer": "ipython3",
   "version": "3.11.7"
  }
 },
 "nbformat": 4,
 "nbformat_minor": 5
}
